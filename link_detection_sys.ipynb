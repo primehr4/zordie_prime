{
  "nbformat": 4,
  "nbformat_minor": 0,
  "metadata": {
    "colab": {
      "provenance": []
    },
    "kernelspec": {
      "name": "python3",
      "display_name": "Python 3"
    },
    "language_info": {
      "name": "python"
    }
  },
  "cells": [
    {
      "cell_type": "code",
      "source": [
        "# Link Detection System\n",
        "\n",
        "import re\n",
        "import pandas as pd\n",
        "\n",
        "def detect_links(text):\n",
        "    url_pattern = r'https?://[^\\s]+'\n",
        "    matches = re.findall(url_pattern, text)\n",
        "    return matches\n",
        "\n",
        "def classify_link(link):\n",
        "    if 'github.com' in link:\n",
        "        return 'GitHub'\n",
        "    elif 'drive.google.com' in link:\n",
        "        return 'Google Drive'\n",
        "    elif 'dropbox.com' in link:\n",
        "        return 'Dropbox'\n",
        "    elif 'linkedin.com' in link:\n",
        "        return 'LinkedIn'\n",
        "    elif 'youtube.com' in link:\n",
        "        return 'YouTube'\n",
        "    else:\n",
        "        return 'Other'\n",
        "\n",
        "def process_resume_text(text):\n",
        "    links = detect_links(text)\n",
        "    return pd.DataFrame({\n",
        "        'link': links,\n",
        "        'platform': [classify_link(link) for link in links]\n",
        "    })\n",
        "\n",
        "# Example usage\n",
        "sample_resume = \"\"\"\n",
        "Check out my GitHub at https://github.com/username/project\n",
        "My drive folder is here: https://drive.google.com/drive/folders/sample\n",
        "\"\"\"\n",
        "link_df = process_resume_text(sample_resume)\n",
        "print(link_df)"
      ],
      "metadata": {
        "colab": {
          "base_uri": "https://localhost:8080/"
        },
        "id": "jwGFWlLvjBbI",
        "outputId": "fa3d6fd9-0cca-42e3-affb-14be0052fe4e"
      },
      "execution_count": null,
      "outputs": [
        {
          "output_type": "stream",
          "name": "stdout",
          "text": [
            "                                            link      platform\n",
            "0            https://github.com/username/project        GitHub\n",
            "1  https://drive.google.com/drive/folders/sample  Google Drive\n"
          ]
        }
      ]
    },
    {
      "cell_type": "markdown",
      "source": [
        "Module 1: GitHub Profile Crawler"
      ],
      "metadata": {
        "id": "weo3ynL4jZo9"
      }
    },
    {
      "cell_type": "code",
      "source": [
        "from github import Github\n",
        "\n",
        "def get_repositories(username, token):\n",
        "    g = Github(token)\n",
        "    user = g.get_user(username)\n",
        "    return [repo.name for repo in user.get_repos()]\n"
      ],
      "metadata": {
        "id": "HyvRe5GsjX4V"
      },
      "execution_count": null,
      "outputs": []
    },
    {
      "cell_type": "markdown",
      "source": [
        "Module 2: Repo Metrics Extractor\n"
      ],
      "metadata": {
        "id": "RP0NrVu9jgFI"
      }
    },
    {
      "cell_type": "code",
      "source": [
        "def extract_repo_metrics(username, token):\n",
        "    g = Github(token)\n",
        "    user = g.get_user(username)\n",
        "    data = []\n",
        "    for repo in user.get_repos():\n",
        "        data.append({\n",
        "            'repo': repo.name,\n",
        "            'stars': repo.stargazers_count,\n",
        "            'forks': repo.forks_count,\n",
        "            'language': repo.language,\n",
        "            'topics': repo.get_topics()\n",
        "        })\n",
        "    return pd.DataFrame(data)\n"
      ],
      "metadata": {
        "id": "FuXuxXtojkUh"
      },
      "execution_count": null,
      "outputs": []
    },
    {
      "cell_type": "markdown",
      "source": [
        "Module 3: Commit and Code Analysis"
      ],
      "metadata": {
        "id": "Y-Q7-MVejody"
      }
    },
    {
      "cell_type": "code",
      "source": [
        "def get_commit_stats(repo):\n",
        "    commits = repo.get_commits()\n",
        "    return {\n",
        "        'total_commits': commits.totalCount,\n",
        "        'recent_commit': commits[0].commit.message if commits.totalCount > 0 else 'None'\n",
        "    }\n"
      ],
      "metadata": {
        "id": "JrNNjE4Xjxp7"
      },
      "execution_count": null,
      "outputs": []
    },
    {
      "cell_type": "markdown",
      "source": [
        "Module 4: Repo Strength Scorer (Simple Heuristic)"
      ],
      "metadata": {
        "id": "PuCtt9ckjqfO"
      }
    },
    {
      "cell_type": "code",
      "source": [
        "def score_repository(stars, forks, commits):\n",
        "    return stars * 0.4 + forks * 0.3 + commits * 0.3  # Simple scoring weights\n",
        "\n",
        "def assess_repos(df, commit_data):\n",
        "    df['commit_count'] = commit_data['commits']\n",
        "    df['score'] = df.apply(lambda row: score_repository(row['stars'], row['forks'], row['commit_count']), axis=1)\n",
        "    return df.sort_values(by='score', ascending=False)\n"
      ],
      "metadata": {
        "id": "otRJTHWfjzTI"
      },
      "execution_count": null,
      "outputs": []
    },
    {
      "cell_type": "markdown",
      "source": [
        "code originality\n"
      ],
      "metadata": {
        "id": "uJ30OzN_juGZ"
      }
    },
    {
      "cell_type": "code",
      "source": [
        "import difflib\n",
        "import ast\n",
        "import re\n",
        "\n",
        "def normalize_code(code):\n",
        "    # Remove comments, extra spaces, etc.\n",
        "    code = re.sub(r'#.*', '', code)  # remove single-line comments\n",
        "    code = re.sub(r'\\s+', ' ', code)  # normalize whitespace\n",
        "    return code.strip()\n",
        "\n",
        "def plagiarism_score(code1, code2):\n",
        "    code1 = normalize_code(code1)\n",
        "    code2 = normalize_code(code2)\n",
        "    matcher = difflib.SequenceMatcher(None, code1, code2)\n",
        "    return matcher.ratio() * 100  # percentage similarity\n",
        "\n",
        "def extract_code_structure(code):\n",
        "    try:\n",
        "        tree = ast.parse(code)\n",
        "        return [type(node).__name__ for node in ast.walk(tree)]\n",
        "    except SyntaxError:\n",
        "        return []\n",
        "\n",
        "def compare_ast_structure(structure1, structure2):\n",
        "    overlap = set(structure1).intersection(set(structure2))\n",
        "    total = set(structure1).union(set(structure2))\n",
        "    return len(overlap) / len(total) * 100 if total else 0\n",
        "\n",
        "def detect_ai_style(code):\n",
        "    # Basic heuristic: check for patterns commonly produced by LLMs\n",
        "    patterns = [\n",
        "        \"This function\", \"The purpose of this\", \"Args:\", \"Returns:\", \"Example:\", \"Usage:\"\n",
        "    ]\n",
        "    for pattern in patterns:\n",
        "        if pattern.lower() in code.lower():\n",
        "            return True\n",
        "    return False\n",
        "\n",
        "def assess_code_originality(submitted_code, reference_code_list):\n",
        "    result = {\n",
        "        'ai_signature_detected': detect_ai_style(submitted_code),\n",
        "        'highest_plagiarism_score': 0,\n",
        "        'closest_match_repo': None,\n",
        "        'ast_similarity': 0\n",
        "    }\n",
        "\n",
        "    for name, ref_code in reference_code_list.items():\n",
        "        plag_score = plagiarism_score(submitted_code, ref_code)\n",
        "        ast_sim = compare_ast_structure(\n",
        "            extract_code_structure(submitted_code),\n",
        "            extract_code_structure(ref_code)\n",
        "        )\n",
        "        if plag_score > result['highest_plagiarism_score']:\n",
        "            result['highest_plagiarism_score'] = plag_score\n",
        "            result['closest_match_repo'] = name\n",
        "        if ast_sim > result['ast_similarity']:\n",
        "            result['ast_similarity'] = ast_sim\n",
        "\n",
        "    return result\n",
        "\n",
        "# 🧪 Example usage\n",
        "if __name__ == \"__main__\":\n",
        "    submitted_code = '''\n",
        "    def add(x, y):\n",
        "        # This function returns sum\n",
        "        return x + y\n",
        "    '''\n",
        "\n",
        "    reference_code_list = {\n",
        "        'utils_repo': 'def sum_func(a, b): return a + b',\n",
        "        'ai_code_gen': 'def add(x, y): # This function returns sum return x + y'\n",
        "    }\n",
        "\n",
        "    originality_result = assess_code_originality(submitted_code, reference_code_list)\n",
        "    print(originality_result)\n"
      ],
      "metadata": {
        "colab": {
          "base_uri": "https://localhost:8080/"
        },
        "id": "BDATDBJwkFZT",
        "outputId": "6c6dc8e4-2f00-4d6b-c13d-e39047136bf9"
      },
      "execution_count": 1,
      "outputs": [
        {
          "output_type": "stream",
          "name": "stdout",
          "text": [
            "{'ai_signature_detected': True, 'highest_plagiarism_score': 68.29268292682927, 'closest_match_repo': 'ai_code_gen', 'ast_similarity': 0}\n"
          ]
        }
      ]
    }
  ]
}